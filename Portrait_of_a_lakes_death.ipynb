{
 "cells": [
  {
   "cell_type": "markdown",
   "id": "f59e0ec4-b089-4b72-9f2d-46d20ec17e35",
   "metadata": {},
   "source": [
    "<hr>"
   ]
  },
  {
   "cell_type": "markdown",
   "id": "ce512314-d108-4217-aa8a-cb4bf12570e5",
   "metadata": {},
   "source": [
    "# Portrait of a lake's death"
   ]
  },
  {
   "cell_type": "markdown",
   "id": "9a62fdb6-6732-4654-a2f8-d8ab9eb614a2",
   "metadata": {},
   "source": [
    "<i>by [Colas Droin](colasdroin.github.io) (EPFL), [Diana Zambellini](https://www.linkedin.com/in/diana-zambelloni-0b346b155/en/?originalSubdomain=it) (EPFL), and [Carlos Vivar Rios](h4ck1ng.science) (h4cking.science).</i>\n",
    "\n",
    "Project developed for the Jupyter Notebook Competition by [Wekeo](https://notebook.wekeo.eu/). MIT License 2022.\n",
    "<hr>\n"
   ]
  },
  {
   "cell_type": "markdown",
   "id": "08898fbb-713c-4789-8a02-ce4c0d8272f3",
   "metadata": {},
   "source": [
    "## Abstract\n",
    "\n",
    "Lorem ipuson\n",
    "\n",
    "<hr>"
   ]
  },
  {
   "cell_type": "markdown",
   "id": "7988df97-dcc6-4009-89b4-8d43280e928f",
   "metadata": {},
   "source": [
    "## Notebook outline\n",
    "\n",
    "* [1 - Introduction](#introduction)\n",
    "* [1 - Introduction](#introduction)\n",
    "* [1 - Introduction](#introduction)\n",
    "* [1 - Introduction](#introduction)\n",
    "* [1 - Introduction](#introduction)\n",
    "* [1 - Introduction](#introduction)\n",
    "\n",
    "\n",
    "<hr>"
   ]
  },
  {
   "cell_type": "markdown",
   "id": "d1bc382f-df39-4d4f-a67a-1e196b4eb504",
   "metadata": {},
   "source": [
    "## <a id='introduction'></a>1. Introduction"
   ]
  },
  {
   "cell_type": "code",
   "execution_count": null,
   "id": "11433762-6145-44cc-abce-25858a26b358",
   "metadata": {},
   "outputs": [],
   "source": []
  },
  {
   "cell_type": "code",
   "execution_count": null,
   "id": "9aed7895-530a-48e8-9c17-a99feb4373bd",
   "metadata": {},
   "outputs": [],
   "source": []
  },
  {
   "cell_type": "markdown",
   "id": "edff8f5e-1774-4c0e-9778-7b60f2d4ba8d",
   "metadata": {},
   "source": [
    "<hr>\n",
    "\n",
    "## <a id='analysis'></a> 2. Analysis\n",
    "\n",
    "The first step is to inspect a Sentinel-2 image file, in order to better understand the file structure. Sentinel-2 carries a single `Multi-spectral Instrument (MSI)`, which provides 13 bands in the `visible`, `near-infrared` and `shortwave-infrared` spectrum with different ground resolutions:\n",
    "\n",
    "|#|Name|Spatial Resolution|\n",
    "|------------|----------------|-----------------|\n",
    "|B1|Coastal aerosol|60|\n",
    "|B2|Blue|10|\n",
    "|B3|Green|10|\n",
    "|B4|Red|10|\n",
    "|B5|Red Edge 1|20|\n",
    "|B6|Red Edge 2|20|\n",
    "|B7|Red Edge 3|20|\n",
    "|B8|Near-Infrared|10|\n",
    "|B8a|Near-Infrared narrow|20|\n",
    "|B9|Water vapor|60|\n",
    "|B10|Shortwave-Infrared cirrus|60|\n",
    "|B11|Shortwave Infrared 1|20|\n",
    "|B12|Shortwave-Infrared 2|20|"
   ]
  },
  {
   "cell_type": "markdown",
   "id": "3c25fe11-54aa-42f0-bdd6-856374653913",
   "metadata": {},
   "source": [
    "### Products selection and downloading"
   ]
  },
  {
   "cell_type": "code",
   "execution_count": null,
   "id": "a48baa79-f61a-4b2e-aaaf-8d88f71b7fb7",
   "metadata": {},
   "outputs": [],
   "source": [
    "#%run \"./technical_notebooks/000_data_downloading.ipynb\""
   ]
  },
  {
   "cell_type": "code",
   "execution_count": 7,
   "id": "0184056c-6097-48b8-819f-5c8c4ae7079d",
   "metadata": {},
   "outputs": [
    {
     "ename": "NameError",
     "evalue": "name 'zipfile' is not defined",
     "output_type": "error",
     "traceback": [
      "\u001b[1;31m---------------------------------------------------------------------------\u001b[0m",
      "\u001b[1;31mNameError\u001b[0m                                 Traceback (most recent call last)",
      "File \u001b[1;32m<timed exec>:14\u001b[0m, in \u001b[0;36m<module>\u001b[1;34m\u001b[0m\n",
      "\u001b[1;31mNameError\u001b[0m: name 'zipfile' is not defined"
     ]
    }
   ],
   "source": [
    "%%time\n",
    "# Alternative you can download the dataset from OSF. Each zip files requires aproximately 1GB. \n",
    "import requests\n",
    "import numpy as np\n",
    "import zipfile\n",
    "import os\n",
    "\n",
    "ixs = ['sja2x', 'hq2v6', 'zt9m3', 'qc35s', 'pa57c', 'gqxeu', 'cq4wr']\n",
    "for year, ix in zip(np.arange(2016,2023), ixs):\n",
    "    r = requests.get(\"https://osf.io/download/{}\".format(ix))\n",
    "    with open('data/{}.zip'.format(year), \"wb\") as fid:\n",
    "        fid.write(r.content)\n",
    "\n",
    "for year in np.arange(2016,2023):\n",
    "    filepath = 'data/{}.zip'.format(year)\n",
    "    with zipfile.ZipFile(filepath,\"r\") as zip_ref:\n",
    "        zip_ref.extractall(\"data\")\n",
    "        \n",
    "    os.remove(filepath)"
   ]
  },
  {
   "cell_type": "code",
   "execution_count": null,
   "id": "3717f2f2-db6c-4597-a837-276a683d64ef",
   "metadata": {},
   "outputs": [],
   "source": [
    "## View dataproducts using folium?"
   ]
  },
  {
   "cell_type": "code",
   "execution_count": null,
   "id": "75d8104d-8ec0-4586-ba6b-b77766d51517",
   "metadata": {},
   "outputs": [],
   "source": [
    "## View all data using Colas method"
   ]
  },
  {
   "cell_type": "markdown",
   "id": "a0e1a7f5-bb7b-4b90-b7e6-237d7e30e39e",
   "metadata": {},
   "source": [
    "### Products preprocessing"
   ]
  },
  {
   "cell_type": "code",
   "execution_count": null,
   "id": "67a4f45b-30ab-45e8-8faa-9805440f10a2",
   "metadata": {},
   "outputs": [],
   "source": [
    "%run \"./technical_notebooks/001_data_preprocessing.ipynb\""
   ]
  },
  {
   "cell_type": "code",
   "execution_count": null,
   "id": "0a037e24-e4f2-4910-b4e2-0a015ff69124",
   "metadata": {},
   "outputs": [],
   "source": []
  },
  {
   "cell_type": "markdown",
   "id": "692c6376-735b-4a14-b000-a4594159eaec",
   "metadata": {},
   "source": [
    "### Lake segmentation"
   ]
  },
  {
   "cell_type": "code",
   "execution_count": null,
   "id": "6d1ebdc5-ad80-4bc0-982c-6c0b88a60ad4",
   "metadata": {},
   "outputs": [],
   "source": [
    "%run \"./technical_notebooks/002_data_segmentation.ipynb\""
   ]
  },
  {
   "cell_type": "code",
   "execution_count": null,
   "id": "e15d089b-2637-4f7f-bfa5-2585ba0a23b3",
   "metadata": {},
   "outputs": [],
   "source": [
    "# Alternative load segmentation\n",
    "array_segmented_images = np.load(r\"C:\\Users\\Carlos\\pro\\wekeo\\Data engineering\\\\segmentation.npy\")\n",
    "\n"
   ]
  },
  {
   "cell_type": "markdown",
   "id": "c67ad129-71fa-4bea-b0b3-d426dc9ddda8",
   "metadata": {},
   "source": [
    "### Dynamics"
   ]
  },
  {
   "cell_type": "code",
   "execution_count": null,
   "id": "5a4f64f0-cc8b-4463-ac7a-6d57a9f36e37",
   "metadata": {},
   "outputs": [],
   "source": [
    "%run \"./technical_notebooks/001_time_series_analysis.ipynb\""
   ]
  },
  {
   "cell_type": "code",
   "execution_count": null,
   "id": "e3212602-9dd5-4cff-99a1-9deb5e7bce71",
   "metadata": {},
   "outputs": [],
   "source": []
  },
  {
   "cell_type": "markdown",
   "id": "4adcbac0-32a5-42c7-ae40-5ee460c052cc",
   "metadata": {},
   "source": [
    "## Conclusion"
   ]
  },
  {
   "cell_type": "code",
   "execution_count": null,
   "id": "74baf15c-802a-4696-81b8-c4cf4b67a47e",
   "metadata": {},
   "outputs": [],
   "source": []
  }
 ],
 "metadata": {
  "kernelspec": {
   "display_name": "kidodynamics",
   "language": "python",
   "name": "kidodynamics"
  },
  "language_info": {
   "codemirror_mode": {
    "name": "ipython",
    "version": 3
   },
   "file_extension": ".py",
   "mimetype": "text/x-python",
   "name": "python",
   "nbconvert_exporter": "python",
   "pygments_lexer": "ipython3",
   "version": "3.9.12"
  }
 },
 "nbformat": 4,
 "nbformat_minor": 5
}
