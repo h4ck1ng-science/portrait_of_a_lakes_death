{
 "cells": [
  {
   "cell_type": "markdown",
   "id": "3002d1c8-a8ec-4a7b-8b71-57bc912b159c",
   "metadata": {},
   "source": [
    "# Data downloading"
   ]
  },
  {
   "cell_type": "code",
   "execution_count": null,
   "id": "7a346be3-818a-4cc8-a74d-d9cbf37d25b0",
   "metadata": {},
   "outputs": [],
   "source": [
    "# !pip install hda\n",
    "# !pip install rasterio==1.3.0\n",
    "# !pip install python-dotenv\n",
    "# !pip install sentinelsat\n",
    "# !pip install pandas\n",
    "# !pip install geopandas\n",
    "# !pip install folium"
   ]
  },
  {
   "cell_type": "code",
   "execution_count": null,
   "id": "55226345-b59e-4f05-bb9f-b7e27fee63b2",
   "metadata": {},
   "outputs": [],
   "source": [
    "import hda\n",
    "from pathlib import Path\n",
    "from hda import Client\n",
    "import os\n",
    "\n",
    "from sentinelsat import SentinelAPI, read_geojson, geojson_to_wkt\n",
    "from datetime import date\n",
    "\n",
    "from shapely import wkt\n",
    "import geopandas as gpd\n",
    "import rasterio as rio\n",
    "from pyproj import Proj\n",
    "from pyproj import Transformer\n",
    "from rasterio.mask import mask\n",
    "from shapely.geometry import Polygon\n",
    "from rasterio.warp import calculate_default_transform, reproject\n",
    "import zipfile\n",
    "import numpy as np\n",
    "from skimage.transform import resize\n",
    "import shutil\n",
    "import pickle\n",
    "import zarr\n",
    "from glob import glob\n",
    "\n",
    "User = 'katospiegel'\n",
    "Password = 'Wolframio12'\n",
    "Token = '5c58c956-8b40-31e7-85f6-e609d5e3352d'"
   ]
  },
  {
   "cell_type": "markdown",
   "id": "693daa43-d338-4894-8675-01dbdcee68ac",
   "metadata": {},
   "source": [
    "## Search of products"
   ]
  },
  {
   "cell_type": "code",
   "execution_count": 3,
   "id": "acbb8c27-4870-4743-9fd4-143329596ba2",
   "metadata": {},
   "outputs": [],
   "source": [
    "# Define range of interest"
   ]
  },
  {
   "cell_type": "code",
   "execution_count": 3,
   "id": "a58d1907-53a9-49f9-816d-18851cea84d9",
   "metadata": {},
   "outputs": [
    {
     "name": "stdout",
     "output_type": "stream",
     "text": [
      "4 products found\n"
     ]
    }
   ],
   "source": [
    "api = SentinelAPI(User, Password,'https://apihub.copernicus.eu/apihub')\n",
    "first_date = date(2018, 12, 15)\n",
    "last_date = date(2018, 12, 31)\n",
    "\n",
    "footprint = \"POLYGON((-70.9649357878204 -33.81244707234685,-70.96591676385808 -33.89260670554516,-70.84251675089554 -33.89488656955273,-70.84506715448308 -33.81375110356652,-70.9649357878204 -33.81244707234685))\"\n",
    "\n",
    "products = api.query(footprint,\n",
    "                     date=(first_date, last_date),\n",
    "                         platformname='Sentinel-2',\n",
    "                     processinglevel='Level-1C')#,\n",
    "                     #cloudcoverpercentage=(0, 100))\n",
    "\n",
    "print(f'{len(products)} products found')"
   ]
  },
  {
   "cell_type": "markdown",
   "id": "ba8d6d2f-692c-4217-8460-872796a85362",
   "metadata": {},
   "source": [
    "## Extract area of interest in original CRS"
   ]
  },
  {
   "cell_type": "code",
   "execution_count": 4,
   "id": "11b2320f-8167-4ecb-b10b-5fd886062669",
   "metadata": {},
   "outputs": [],
   "source": [
    "initial_geometry = [wkt.loads(footprint)]"
   ]
  },
  {
   "cell_type": "code",
   "execution_count": 5,
   "id": "63716974-6c9b-48ae-868e-d27e5b813c6a",
   "metadata": {},
   "outputs": [],
   "source": [
    "c = Client(url='https://wekeo-broker.apps.mercator.dpi.wekeo.eu/databroker',\n",
    "           user = User,\n",
    "           password = Password,\n",
    "           token=Token, debug=False, quiet=True);"
   ]
  },
  {
   "cell_type": "code",
   "execution_count": 6,
   "id": "0cb483c3-a8ac-4e1b-a927-e3f6b25ccb0d",
   "metadata": {},
   "outputs": [],
   "source": [
    "# Methods\n",
    "def area2ts(p):\n",
    "    n = p['filename'].split('.')[0]\n",
    "    datstrip = p['datastripidentifier'].split('_')[8][1:]\n",
    "    granuleid = p['granuleidentifier'].split('_')\n",
    "\n",
    "\n",
    "\n",
    "    identifier = p['identifier']\n",
    "    request = { \"datasetId\": \"EO:ESA:DAT:SENTINEL-2:MSI\",\n",
    "               \"stringInputValues\": [{\"name\": \"productIdentifier\", \"value\": identifier}]}\n",
    "\n",
    "    matches = c.search(request)\n",
    "    title = p['title']\n",
    "    #matches.download()\n",
    "\n",
    "    filepath = title + '.zip'\n",
    "    with zipfile.ZipFile(filepath,\"r\") as zip_ref:\n",
    "        zip_ref.extractall(\"../data\")\n",
    "    os.remove(filepath)\n",
    "\n",
    "\n",
    "    source_crs = \"EPSG:4326\"\n",
    "    \n",
    "    fullband = []\n",
    "\n",
    "    granule_folder = glob(\"../data/{}.SAFE/GRANULE/*/\".format(n), recursive = True)[0]\n",
    "    \n",
    "    for band in ['B01','B02','B03','B04','B05','B06','B07','B08','B09','B10','B11','B12','B8A']:\n",
    "        with rio.open('{}/IMG_DATA/{}_{}_{}.jp2'.format(granule_folder, n.split('_')[5], n.split('_')[2], band)) as img:\n",
    "            print(img.crs)\n",
    "            target_crs = img.crs.to_string()\n",
    "            x, y = initial_geometry[0].exterior.coords.xy\n",
    "\n",
    "            aoi = list(zip(x, y))\n",
    "            transformer = Transformer.from_crs(source_crs, target_crs)\n",
    "\n",
    "            new_coords = []\n",
    "            for co in aoi:\n",
    "                t = transformer.transform(co[1],co[0])\n",
    "                new_coords.append(t)\n",
    "\n",
    "            aoi = [Polygon(new_coords)]\n",
    "\n",
    "            clipped, transform = mask(img, aoi, crop=True)\n",
    "            metadata = img.meta.copy()\n",
    "\n",
    "            metadata.update({\"transform\": transform,\n",
    "                         \"height\": clipped.shape[1],\n",
    "                         \"width\": clipped.shape[2]#,\n",
    "                            #'driver': 'GTiff'\n",
    "                            })\n",
    "\n",
    "            with rio.open('../temp/{}_{}.tif'.format(n, band), 'w', **metadata) as dst:\n",
    "                dst.write(clipped)\n",
    "\n",
    "\n",
    "            with rio.open('../temp/{}_{}.tif'.format(n,band)) as r:\n",
    "                fullband.append(r.read())\n",
    "\n",
    "            os.remove('../temp/{}_{}.tif'.format(n,band))\n",
    "            os.remove('../temp/{}_{}.tif.aux.xml'.format(n,band)) \n",
    "\n",
    "    \n",
    "    fullband_resized = []\n",
    "    max_shape = tuple(np.max([np.shape(np.squeeze(band)) for band in fullband],axis=0))\n",
    "    \n",
    "    \n",
    "    for img in fullband:\n",
    "        if img.shape != max_shape:\n",
    "            image_resized = resize(np.squeeze(img), max_shape, anti_aliasing=False, preserve_range=True)\n",
    "            fullband_resized.append(image_resized)\n",
    "    \n",
    "    shutil.rmtree('../data/{}.SAFE'.format(n))\n",
    "    return np.array(fullband_resized, dtype=np.int16)\n",
    "\n",
    "def load_and_append_zarr(array, filename='output.zarr'):\n",
    "    if os.path.isdir(filename):\n",
    "        z = zarr.open(filename, mode='a')\n",
    "        z.append(array[np.newaxis])\n",
    "        zarr.save(filename, z)\n",
    "    else:\n",
    "        z.save(filename, array[np.newaxis])\n",
    "                      \n",
    "def load_and_expand_zarr(array, key, filename='output.zarr', debug=False):\n",
    "    if os.path.isdir(filename):\n",
    "        z = zarr.open(filename) #, mode='a')\n",
    "        z[key] = array\n",
    "        #zarr.save(filename, z)\n",
    "    else:\n",
    "        zarr.save(filename, **{key: array})"
   ]
  },
  {
   "cell_type": "code",
   "execution_count": 7,
   "id": "1b8fc61e-27d7-4799-8f51-429e8226d36c",
   "metadata": {},
   "outputs": [
    {
     "data": {
      "text/plain": [
       "'1.3.0'"
      ]
     },
     "execution_count": 7,
     "metadata": {},
     "output_type": "execute_result"
    }
   ],
   "source": [
    "rio.__version__"
   ]
  },
  {
   "cell_type": "code",
   "execution_count": 8,
   "id": "f99b2c7b-27b3-4e7b-9877-c7998e4cc57a",
   "metadata": {},
   "outputs": [
    {
     "name": "stderr",
     "output_type": "stream",
     "text": [
      "C:\\Users\\Carlos\\anaconda3\\envs\\kidodynamics\\lib\\site-packages\\urllib3\\connectionpool.py:1043: InsecureRequestWarning: Unverified HTTPS request is being made to host 'zipper.creodias.eu'. Adding certificate verification is strongly advised. See: https://urllib3.readthedocs.io/en/1.26.x/advanced-usage.html#ssl-warnings\n",
      "  warnings.warn(\n",
      "                                                    \r"
     ]
    },
    {
     "name": "stdout",
     "output_type": "stream",
     "text": [
      "None\n"
     ]
    },
    {
     "ename": "AttributeError",
     "evalue": "'NoneType' object has no attribute 'to_string'",
     "output_type": "error",
     "traceback": [
      "\u001b[1;31m---------------------------------------------------------------------------\u001b[0m",
      "\u001b[1;31mAttributeError\u001b[0m                            Traceback (most recent call last)",
      "Input \u001b[1;32mIn [8]\u001b[0m, in \u001b[0;36m<cell line: 1>\u001b[1;34m()\u001b[0m\n\u001b[1;32m----> 1\u001b[0m \u001b[43marea2ts\u001b[49m\u001b[43m(\u001b[49m\u001b[43mproducts\u001b[49m\u001b[43m[\u001b[49m\u001b[38;5;124;43m'\u001b[39;49m\u001b[38;5;124;43m470e2932-6334-4b3d-a272-be23c63a2d1b\u001b[39;49m\u001b[38;5;124;43m'\u001b[39;49m\u001b[43m]\u001b[49m\u001b[43m)\u001b[49m\n",
      "Input \u001b[1;32mIn [6]\u001b[0m, in \u001b[0;36marea2ts\u001b[1;34m(p)\u001b[0m\n\u001b[0;32m     30\u001b[0m \u001b[38;5;28;01mwith\u001b[39;00m rio\u001b[38;5;241m.\u001b[39mopen(\u001b[38;5;124m'\u001b[39m\u001b[38;5;132;01m{}\u001b[39;00m\u001b[38;5;124m/IMG_DATA/\u001b[39m\u001b[38;5;132;01m{}\u001b[39;00m\u001b[38;5;124m_\u001b[39m\u001b[38;5;132;01m{}\u001b[39;00m\u001b[38;5;124m_\u001b[39m\u001b[38;5;132;01m{}\u001b[39;00m\u001b[38;5;124m.jp2\u001b[39m\u001b[38;5;124m'\u001b[39m\u001b[38;5;241m.\u001b[39mformat(granule_folder, n\u001b[38;5;241m.\u001b[39msplit(\u001b[38;5;124m'\u001b[39m\u001b[38;5;124m_\u001b[39m\u001b[38;5;124m'\u001b[39m)[\u001b[38;5;241m5\u001b[39m], n\u001b[38;5;241m.\u001b[39msplit(\u001b[38;5;124m'\u001b[39m\u001b[38;5;124m_\u001b[39m\u001b[38;5;124m'\u001b[39m)[\u001b[38;5;241m2\u001b[39m], band)) \u001b[38;5;28;01mas\u001b[39;00m img:\n\u001b[0;32m     31\u001b[0m     \u001b[38;5;28mprint\u001b[39m(img\u001b[38;5;241m.\u001b[39mcrs)\n\u001b[1;32m---> 32\u001b[0m     target_crs \u001b[38;5;241m=\u001b[39m \u001b[43mimg\u001b[49m\u001b[38;5;241;43m.\u001b[39;49m\u001b[43mcrs\u001b[49m\u001b[38;5;241;43m.\u001b[39;49m\u001b[43mto_string\u001b[49m()\n\u001b[0;32m     33\u001b[0m     x, y \u001b[38;5;241m=\u001b[39m initial_geometry[\u001b[38;5;241m0\u001b[39m]\u001b[38;5;241m.\u001b[39mexterior\u001b[38;5;241m.\u001b[39mcoords\u001b[38;5;241m.\u001b[39mxy\n\u001b[0;32m     35\u001b[0m     aoi \u001b[38;5;241m=\u001b[39m \u001b[38;5;28mlist\u001b[39m(\u001b[38;5;28mzip\u001b[39m(x, y))\n",
      "\u001b[1;31mAttributeError\u001b[0m: 'NoneType' object has no attribute 'to_string'"
     ]
    }
   ],
   "source": [
    "area2ts(products['470e2932-6334-4b3d-a272-be23c63a2d1b'])"
   ]
  },
  {
   "cell_type": "code",
   "execution_count": 13,
   "id": "9aead6d6-dd5c-4fa8-8144-46c3a906e256",
   "metadata": {},
   "outputs": [
    {
     "name": "stdout",
     "output_type": "stream",
     "text": [
      "{'driver': 'JP2OpenJPEG', 'dtype': 'uint8', 'nodata': None, 'width': 10980, 'height': 10980, 'count': 3, 'crs': None, 'transform': Affine(10.0, 0.0, 300000.0,\n",
      "       0.0, -10.0, 6300040.0)}\n"
     ]
    }
   ],
   "source": [
    "pp ='../data/S2B_MSIL1C_20171220T143739_N0206_R096_T19HCC_20171220T175623.SAFE/GRANULE/L1C_T19HCC_A004126_20171220T144655/IMG_DATA/T19HCC_20171220T143739_TCI.jp2'\n",
    "with rio.open(pp) as img:\n",
    "    print(img.meta)"
   ]
  },
  {
   "cell_type": "code",
   "execution_count": 15,
   "id": "c4907f82-8634-4b26-907b-930ef209a50e",
   "metadata": {},
   "outputs": [
    {
     "ename": "CRSError",
     "evalue": "The EPSG code is unknown. PROJ: proj_create_from_database: C:\\Users\\Carlos\\anaconda3\\Library\\share\\proj\\proj.db lacks DATABASE.LAYOUT.VERSION.MAJOR / DATABASE.LAYOUT.VERSION.MINOR metadata. It comes from another PROJ installation.",
     "output_type": "error",
     "traceback": [
      "\u001b[1;31m---------------------------------------------------------------------------\u001b[0m",
      "\u001b[1;31mCPLE_AppDefinedError\u001b[0m                      Traceback (most recent call last)",
      "File \u001b[1;32mrasterio\\crs.pyx:586\u001b[0m, in \u001b[0;36mrasterio.crs.CRS.from_epsg\u001b[1;34m()\u001b[0m\n",
      "File \u001b[1;32mrasterio\\_err.pyx:191\u001b[0m, in \u001b[0;36mrasterio._err.exc_wrap_int\u001b[1;34m()\u001b[0m\n",
      "\u001b[1;31mCPLE_AppDefinedError\u001b[0m: PROJ: proj_create_from_database: C:\\Users\\Carlos\\anaconda3\\Library\\share\\proj\\proj.db lacks DATABASE.LAYOUT.VERSION.MAJOR / DATABASE.LAYOUT.VERSION.MINOR metadata. It comes from another PROJ installation.",
      "\nDuring handling of the above exception, another exception occurred:\n",
      "\u001b[1;31mCRSError\u001b[0m                                  Traceback (most recent call last)",
      "Input \u001b[1;32mIn [15]\u001b[0m, in \u001b[0;36m<cell line: 2>\u001b[1;34m()\u001b[0m\n\u001b[0;32m      1\u001b[0m \u001b[38;5;28;01mimport\u001b[39;00m \u001b[38;5;21;01mrasterio\u001b[39;00m\n\u001b[1;32m----> 2\u001b[0m crs \u001b[38;5;241m=\u001b[39m \u001b[43mrasterio\u001b[49m\u001b[38;5;241;43m.\u001b[39;49m\u001b[43mcrs\u001b[49m\u001b[38;5;241;43m.\u001b[39;49m\u001b[43mCRS\u001b[49m\u001b[43m(\u001b[49m\u001b[43m{\u001b[49m\u001b[38;5;124;43m'\u001b[39;49m\u001b[38;5;124;43minit\u001b[39;49m\u001b[38;5;124;43m'\u001b[39;49m\u001b[43m:\u001b[49m\u001b[43m \u001b[49m\u001b[38;5;124;43m'\u001b[39;49m\u001b[38;5;124;43mepsg:4326\u001b[39;49m\u001b[38;5;124;43m'\u001b[39;49m\u001b[43m}\u001b[49m\u001b[43m)\u001b[49m\n\u001b[0;32m      3\u001b[0m \u001b[38;5;28mprint\u001b[39m(crs\u001b[38;5;241m.\u001b[39mis_valid)\n",
      "File \u001b[1;32mrasterio\\crs.pyx:104\u001b[0m, in \u001b[0;36mrasterio.crs.CRS.__init__\u001b[1;34m()\u001b[0m\n",
      "File \u001b[1;32mrasterio\\crs.pyx:672\u001b[0m, in \u001b[0;36mrasterio.crs.CRS.from_dict\u001b[1;34m()\u001b[0m\n",
      "File \u001b[1;32mrasterio\\crs.pyx:590\u001b[0m, in \u001b[0;36mrasterio.crs.CRS.from_epsg\u001b[1;34m()\u001b[0m\n",
      "\u001b[1;31mCRSError\u001b[0m: The EPSG code is unknown. PROJ: proj_create_from_database: C:\\Users\\Carlos\\anaconda3\\Library\\share\\proj\\proj.db lacks DATABASE.LAYOUT.VERSION.MAJOR / DATABASE.LAYOUT.VERSION.MINOR metadata. It comes from another PROJ installation."
     ]
    }
   ],
   "source": [
    "import rasterio\n",
    "crs = rasterio.crs.CRS({'init': 'epsg:4326'})\n",
    "print(crs.is_valid)"
   ]
  },
  {
   "cell_type": "code",
   "execution_count": 18,
   "id": "2facd2c8-7f6e-42ff-9d49-fbacfde4382a",
   "metadata": {},
   "outputs": [
    {
     "ename": "CRSError",
     "evalue": "The EPSG code is unknown. PROJ: proj_create_from_database: C:\\Users\\Carlos\\anaconda3\\Library\\share\\proj\\proj.db lacks DATABASE.LAYOUT.VERSION.MAJOR / DATABASE.LAYOUT.VERSION.MINOR metadata. It comes from another PROJ installation.",
     "output_type": "error",
     "traceback": [
      "\u001b[1;31m---------------------------------------------------------------------------\u001b[0m",
      "\u001b[1;31mCPLE_AppDefinedError\u001b[0m                      Traceback (most recent call last)",
      "File \u001b[1;32mrasterio\\crs.pyx:586\u001b[0m, in \u001b[0;36mrasterio.crs.CRS.from_epsg\u001b[1;34m()\u001b[0m\n",
      "File \u001b[1;32mrasterio\\_err.pyx:191\u001b[0m, in \u001b[0;36mrasterio._err.exc_wrap_int\u001b[1;34m()\u001b[0m\n",
      "\u001b[1;31mCPLE_AppDefinedError\u001b[0m: PROJ: proj_create_from_database: C:\\Users\\Carlos\\anaconda3\\Library\\share\\proj\\proj.db lacks DATABASE.LAYOUT.VERSION.MAJOR / DATABASE.LAYOUT.VERSION.MINOR metadata. It comes from another PROJ installation.",
      "\nDuring handling of the above exception, another exception occurred:\n",
      "\u001b[1;31mCRSError\u001b[0m                                  Traceback (most recent call last)",
      "Input \u001b[1;32mIn [18]\u001b[0m, in \u001b[0;36m<cell line: 3>\u001b[1;34m()\u001b[0m\n\u001b[0;32m      1\u001b[0m \u001b[38;5;28;01mfrom\u001b[39;00m \u001b[38;5;21;01mrasterio\u001b[39;00m\u001b[38;5;21;01m.\u001b[39;00m\u001b[38;5;21;01mcrs\u001b[39;00m \u001b[38;5;28;01mimport\u001b[39;00m CRS\n\u001b[0;32m      2\u001b[0m \u001b[38;5;66;03m#CRS.from_epsg(32721)\u001b[39;00m\n\u001b[1;32m----> 3\u001b[0m \u001b[43mCRS\u001b[49m\u001b[38;5;241;43m.\u001b[39;49m\u001b[43mfrom_epsg\u001b[49m\u001b[43m(\u001b[49m\u001b[38;5;241;43m32634\u001b[39;49m\u001b[43m)\u001b[49m\n",
      "File \u001b[1;32mrasterio\\crs.pyx:590\u001b[0m, in \u001b[0;36mrasterio.crs.CRS.from_epsg\u001b[1;34m()\u001b[0m\n",
      "\u001b[1;31mCRSError\u001b[0m: The EPSG code is unknown. PROJ: proj_create_from_database: C:\\Users\\Carlos\\anaconda3\\Library\\share\\proj\\proj.db lacks DATABASE.LAYOUT.VERSION.MAJOR / DATABASE.LAYOUT.VERSION.MINOR metadata. It comes from another PROJ installation."
     ]
    }
   ],
   "source": [
    "from rasterio.crs import CRS\n",
    "#CRS.from_epsg(32721)\n",
    "CRS.from_epsg(32634)"
   ]
  },
  {
   "cell_type": "markdown",
   "id": "1ca145c6-c01b-4b47-8c29-330b60094a46",
   "metadata": {},
   "source": [
    "## Download of selected products"
   ]
  },
  {
   "cell_type": "code",
   "execution_count": 9,
   "id": "afdf3b96-26dc-4257-8971-5cc3c23b4509",
   "metadata": {},
   "outputs": [],
   "source": [
    "## Testing parallel loading of ZARR\n",
    "from concurrent.futures import ThreadPoolExecutor, ProcessPoolExecutor\n",
    "\n",
    "def paral(func, lista, N, threads=True, processes=False):\n",
    "    if processes:\n",
    "        with ProcessPoolExecutor(max_workers=N) as executor:\n",
    "            results = executor.map(func, lista)\n",
    "        return list(results)\n",
    "    elif threads:\n",
    "        with ThreadPoolExecutor(max_workers=N) as executor:\n",
    "            results = executor.map(func, lista)\n",
    "        return list(results)"
   ]
  },
  {
   "cell_type": "code",
   "execution_count": 10,
   "id": "c547fabb-5a9f-44d7-a043-73d418c0c9d7",
   "metadata": {},
   "outputs": [
    {
     "name": "stdout",
     "output_type": "stream",
     "text": [
      "4506275d-1f35-4916-abd0-4316e7d577fb downloading new initial dataset\n"
     ]
    },
    {
     "name": "stderr",
     "output_type": "stream",
     "text": [
      "C:\\Users\\Carlos\\anaconda3\\envs\\kidodynamics\\lib\\site-packages\\urllib3\\connectionpool.py:1043: InsecureRequestWarning: Unverified HTTPS request is being made to host 'zipper.creodias.eu'. Adding certificate verification is strongly advised. See: https://urllib3.readthedocs.io/en/1.26.x/advanced-usage.html#ssl-warnings\n",
      "  warnings.warn(\n",
      "                                                      \r"
     ]
    },
    {
     "name": "stdout",
     "output_type": "stream",
     "text": [
      "4506275d-1f35-4916-abd0-4316e7d577fb error. Ignoring dataset\n",
      "'NoneType' object has no attribute 'to_string'\n",
      "2499a745-727d-4f2d-a80a-64d05b21a033 downloading new initial dataset\n"
     ]
    },
    {
     "name": "stderr",
     "output_type": "stream",
     "text": [
      "C:\\Users\\Carlos\\anaconda3\\envs\\kidodynamics\\lib\\site-packages\\urllib3\\connectionpool.py:1043: InsecureRequestWarning: Unverified HTTPS request is being made to host 'zipper.creodias.eu'. Adding certificate verification is strongly advised. See: https://urllib3.readthedocs.io/en/1.26.x/advanced-usage.html#ssl-warnings\n",
      "  warnings.warn(\n",
      "                                                     \n",
      "KeyboardInterrupt\n",
      "\n"
     ]
    }
   ],
   "source": [
    "outputZarr = '2017.zarr'\n",
    "failedProducts = []\n",
    "for p in products:\n",
    "    try:\n",
    "        if os.path.isdir(outputZarr):\n",
    "            if p not in list(zarr.load(outputZarr)):\n",
    "                print('{} downloading new dataset'.format(p))\n",
    "                image = area2ts(products[p])\n",
    "                load_and_expand_zarr(image, p, filename=outputZarr)\n",
    "            else:\n",
    "                print('{} already downloaded and processed'.format(p))\n",
    "        else:\n",
    "            print('{} downloading new initial dataset'.format(p))\n",
    "            image = area2ts(products[p])\n",
    "            load_and_expand_zarr(image, p, filename=outputZarr)\n",
    "\n",
    "        \n",
    "    except Exception as e:\n",
    "        if  os.path.isfile('{}.zip'.format(products[p]['title'])):\n",
    "            os.remove('{}.zip'.format(products[p]['title']))\n",
    "            \n",
    "        if  os.path.isdir('data/{}.SAFE'.format(products[p]['title'])):\n",
    "            shutil.rmtree('data/{}.SAFE'.format(products[p]['title']))\n",
    "            \n",
    "        failedProducts.append(p)\n",
    "        print('{} error. Ignoring dataset'.format(p))\n",
    "        print(e)"
   ]
  },
  {
   "cell_type": "code",
   "execution_count": null,
   "id": "45ef32e6-8bdc-4d62-8990-cd085b39d82b",
   "metadata": {},
   "outputs": [],
   "source": [
    "# ## output of failed\n",
    "# with open('{}_failed.txt'.format(outputZarr.split('.')[0]), 'w') as fp:\n",
    "#     for item in np.unique(failedProducts):\n",
    "#         # write each item on a new line\n",
    "#         fp.write(\"%s\\n\" % item)"
   ]
  },
  {
   "cell_type": "code",
   "execution_count": null,
   "id": "536d5b09-7729-4b7c-b2e6-d1c8f265faa9",
   "metadata": {},
   "outputs": [],
   "source": [
    "# ## do dataframe with the information. Basically matches to dataframe\n",
    "# entries = list(zarr.load(outputZarr))\n",
    "# df = api.to_dataframe(products)\n",
    "# df = df.loc[entries]\n",
    "# df.to_pickle('{}_df.pickle'.format(outputZarr.split('.')[0]))\n",
    "# df"
   ]
  },
  {
   "cell_type": "code",
   "execution_count": null,
   "id": "bb0d1f57-e522-4a3c-bcc6-f8e187732acb",
   "metadata": {},
   "outputs": [],
   "source": [
    "# os.system(\"zip -r {}.zip {} \".format(outputZarr.split('.')[0], outputZarr)) #>/dev/null 2>&1\n",
    "# #os.system(\"unzip {}.zip\".format(outputZarr.split('.')[0]))"
   ]
  }
 ],
 "metadata": {
  "kernelspec": {
   "display_name": "kidodynamics",
   "language": "python",
   "name": "kidodynamics"
  },
  "language_info": {
   "codemirror_mode": {
    "name": "ipython",
    "version": 3
   },
   "file_extension": ".py",
   "mimetype": "text/x-python",
   "name": "python",
   "nbconvert_exporter": "python",
   "pygments_lexer": "ipython3",
   "version": "3.9.12"
  }
 },
 "nbformat": 4,
 "nbformat_minor": 5
}
