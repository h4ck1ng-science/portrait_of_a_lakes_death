{
 "cells": [
  {
   "cell_type": "markdown",
   "id": "8666e8ec",
   "metadata": {},
   "source": [
    "# Data segmentation"
   ]
  },
  {
   "cell_type": "code",
   "execution_count": 28,
   "id": "b9ac5ad6",
   "metadata": {},
   "outputs": [
    {
     "name": "stdout",
     "output_type": "stream",
     "text": [
      "CPU times: user 2.87 ms, sys: 962 ms, total: 965 ms\n",
      "Wall time: 967 ms\n"
     ]
    }
   ],
   "source": [
    "#%cd ..\n",
    "\n",
    "import numpy as np\n",
    "import cv2\n",
    "import imutils\n",
    "import matplotlib.pyplot as plt\n",
    "import pickle\n",
    "import matplotlib.patches as patches\n",
    "from skimage.segmentation import morphological_chan_vese\n",
    "\n",
    "array_segmented_images = np.load(r\"./data/segmentation.npy\")\n",
    "array_data_cropped = np.load('./temp/array_data_cropped.npy')\n",
    "\n",
    "with open('./temp/array_times.pickle', 'rb') as handle:\n",
    "    array_times = pickle.load(handle)"
   ]
  },
  {
   "cell_type": "code",
   "execution_count": 34,
   "id": "faa3c16b",
   "metadata": {},
   "outputs": [],
   "source": [
    "import ipywidgets as widgets\n",
    "# Prettier plots\n",
    "import seaborn as sns\n",
    "sns.set(font='Palatino',\n",
    "        rc={\n",
    " 'axes.axisbelow': False,\n",
    " 'axes.edgecolor': 'k',\n",
    " 'axes.facecolor': 'None',\n",
    " 'axes.grid' : False,\n",
    " 'axes.spines.right': False,\n",
    " 'axes.spines.top': False,\n",
    " 'figure.facecolor': 'white',\n",
    " 'lines.solid_capstyle': 'round',\n",
    " 'patch.edgecolor': 'w',\n",
    " 'patch.force_edgecolor': True,\n",
    " 'xtick.bottom': True,\n",
    " 'xtick.direction': 'out',\n",
    " 'xtick.top': False,\n",
    " 'ytick.direction': 'out',\n",
    " 'ytick.left': True,\n",
    " 'ytick.right': False})\n",
    "\n",
    "# Vectorial plot\n",
    "import matplotlib_inline.backend_inline as backend_inline \n",
    "backend_inline.set_matplotlib_formats('svg')\n",
    "\n",
    "## Testing parallel loading of ZARR\n",
    "from concurrent.futures import ThreadPoolExecutor, ProcessPoolExecutor\n",
    "\n",
    "def paral(func, lista, N, threads=True, processes=False):\n",
    "    if processes:\n",
    "        with ProcessPoolExecutor(max_workers=N) as executor:\n",
    "            results = executor.map(func, lista)\n",
    "        return list(results)\n",
    "    elif threads:\n",
    "        with ThreadPoolExecutor(max_workers=N) as executor:\n",
    "            results = executor.map(func, lista)\n",
    "        return list(results)\n",
    "\n",
    "## Testing parallel loading of ZARR\n",
    "def loadindex(index):\n",
    "    try:\n",
    "        return img[index][:]\n",
    "    except Exception as e:\n",
    "        print(e)\n",
    "        \n",
    "## Visualization method\n",
    "def visualize_data(array_data, array_segments = None, array_times = None, cmap='crest'):\n",
    "    # Widget slider to browse the data\n",
    "    index = widgets.IntSlider(\n",
    "        value=5, min=0, max=array_data.shape[0] - 1, step=1, description=\"Index\"\n",
    "    )\n",
    "\n",
    "    # Other widget slider to browse the channels\n",
    "    channel = widgets.IntSlider(\n",
    "        value=5, min=0, max=array_data.shape[3] - 1, step=1, description=\"Channel\"\n",
    "    )\n",
    "\n",
    "    # Checkbox to display RGB (override the channel)\n",
    "    display_RGB = widgets.Checkbox(description=\"Display RGB\", value=False)\n",
    "\n",
    "    ui = widgets.HBox([index, channel, display_RGB])\n",
    "\n",
    "    # Widget interaction function\n",
    "    def anim(index_value, channel_value, display_RGB_value):\n",
    "        fig = plt.figure(figsize=(10,8))\n",
    "        if display_RGB_value:\n",
    "            plt.imshow( array_data[index_value, :, :, (3,2,1)].swapaxes(0,1).swapaxes(1, 2))\n",
    "        else:\n",
    "            plt.imshow(array_data[index_value, :, :, channel_value], cmap = cmap)\n",
    "        if array_segments is not None:\n",
    "            if np.sum(array_segments[index_value])>0:\n",
    "                plt.contour(array_segments[index_value], [0.5], colors='r')\n",
    "        if array_times is not None:\n",
    "            plt.title('Acquisition time: ' + str(array_times[index_value]))\n",
    "        else:\n",
    "            plt.title('Acquisition time: ' + str(df['beginposition'][index_value]))\n",
    "        plt.axis('off')\n",
    "        return\n",
    "\n",
    "    # Link widget and function\n",
    "    out = widgets.interactive_output(anim, {\"index_value\": index, 'channel_value': channel, 'display_RGB_value': display_RGB})\n",
    "\n",
    "    # Display result\n",
    "    return ui, out"
   ]
  },
  {
   "cell_type": "markdown",
   "id": "80dd53e9",
   "metadata": {},
   "source": [
    "## Dependencies and helper functions"
   ]
  },
  {
   "cell_type": "code",
   "execution_count": null,
   "id": "11dbb5c5",
   "metadata": {},
   "outputs": [],
   "source": [
    "def apply_segmentation(image):\n",
    "    image_normalized = image/np.max(image)\n",
    "    seg = morphological_chan_vese(image_normalized , num_iter= 200, init_level_set='disk', smoothing=2, lambda1 = 10., lambda2 = 1.)\n",
    "    return seg"
   ]
  },
  {
   "cell_type": "markdown",
   "id": "582e2169",
   "metadata": {},
   "source": [
    "## Loading of the data"
   ]
  },
  {
   "cell_type": "code",
   "execution_count": null,
   "id": "7f71a5de",
   "metadata": {},
   "outputs": [],
   "source": [
    "# Segment all images in the dataset on channel 9 (# ! Takes ~1h to run) (B03 - B08) / (B03 + B08)\n",
    "l_segmented_images = paral(apply_segmentation, array_data_cropped[:,:,:,9], 10) #array_data_cropped[:,:,:,9] #np.squeeze(ndwi_array)+1\n",
    "array_segmented_images = np.array(l_segmented_images)\n",
    "del l_segmented_images\n",
    "\n",
    "# Store result as it's pretty heavy to compute\n",
    "with open(r\"./data/segmentation.npy\", 'wb') as f:\n",
    "    np.save(f, array_segmented_images)"
   ]
  },
  {
   "cell_type": "markdown",
   "id": "2d22240e",
   "metadata": {},
   "source": [
    "## Filter out bad-segments based on size"
   ]
  },
  {
   "cell_type": "code",
   "execution_count": 10,
   "id": "d12a6335",
   "metadata": {},
   "outputs": [
    {
     "name": "stdout",
     "output_type": "stream",
     "text": [
      "152 zero-size array to reduction operation maximum which has no identity\n",
      "159 zero-size array to reduction operation maximum which has no identity\n",
      "160 zero-size array to reduction operation maximum which has no identity\n",
      "161 zero-size array to reduction operation maximum which has no identity\n",
      "164 zero-size array to reduction operation maximum which has no identity\n",
      "220 zero-size array to reduction operation maximum which has no identity\n"
     ]
    }
   ],
   "source": [
    "# Filter out segments that are 80% smaller than the main segment\n",
    "for index, segment in enumerate(array_segmented_images):\n",
    "    try:\n",
    "        cnts = cv2.findContours(segment.astype('uint8'), cv2.RETR_EXTERNAL, cv2.CHAIN_APPROX_SIMPLE)\n",
    "        cnts = imutils.grab_contours(cnts)\n",
    "        cnts = sorted(cnts, key=cv2.contourArea, reverse=True)\n",
    "        rect_areas = []\n",
    "        for c in cnts:\n",
    "            (x, y, w, h) = cv2.boundingRect(c)\n",
    "            rect_areas.append(w * h)\n",
    "        max_area = np.max(rect_areas)\n",
    "        for c in cnts:\n",
    "            (x, y, w, h) = cv2.boundingRect(c)\n",
    "            cnt_area = w * h\n",
    "            if cnt_area < 0.2 * max_area:\n",
    "                segment[y:y + h, x:x + w] = 0\n",
    "        array_segmented_images[index] = segment\n",
    "        \n",
    "    except Exception as e:\n",
    "        #print(index, e)\n",
    "        pass"
   ]
  },
  {
   "cell_type": "code",
   "execution_count": 11,
   "id": "e9ed7850",
   "metadata": {},
   "outputs": [],
   "source": [
    "# Filter out segments out segments that are outside of the largest segment when the lake is the \n",
    "# fullest (among the first images, as it becomes empty afterwards)\n",
    "biggest_segment_index = np.argmax([np.sum(x) for x in array_segmented_images[:20]])\n",
    "biggest_segment = array_segmented_images[biggest_segment_index]\n",
    "for index, segment in enumerate(array_segmented_images):\n",
    "    segment_diff = biggest_segment - segment\n",
    "    segment[segment_diff < 0] = 0\n",
    "    array_segmented_images[index] = segment"
   ]
  },
  {
   "cell_type": "markdown",
   "id": "e4ad6e58",
   "metadata": {},
   "source": [
    "## Filtering out based on water content"
   ]
  },
  {
   "cell_type": "code",
   "execution_count": 29,
   "id": "d9f7a0df",
   "metadata": {},
   "outputs": [
    {
     "data": {
      "image/png": "[encoded data removed]",
      "text/plain": [
       "<Figure size 720x360 with 1 Axes>"
      ]
     },
     "metadata": {},
     "output_type": "display_data"
    }
   ],
   "source": [
    "# Display distribution of intensity difference with 'pure' lake\n",
    "fig, ax = plt.subplots(1, figsize = (10,5))\n",
    "l_diff_mean_segments = [np.mean(array_data_cropped[index,:,:,9][segment==1])-np.mean(array_data_cropped[biggest_segment_index,:,:,9][biggest_segment==1]) if np.sum(segment)>0 else np.nan for index, segment in enumerate(array_segmented_images)]\n",
    "fig.patch.set_facecolor('white')\n",
    "plt.hist(l_diff_mean_segments, bins=100)\n",
    "plt.ylim(0, 8)\n",
    "plt.xlim(-100, 1600)\n",
    "plt.xlabel(\"Segment mean intensity value difference w.r.t clean segment\")\n",
    "plt.ylabel(\"Frequency\")\n",
    "tresh = 1450\n",
    "\n",
    "# Create one rectangle patch and add it to the plot\n",
    "rect = patches.Rectangle((tresh, 0), 1600-tresh, 8, alpha = 0.3, facecolor=\"red\")\n",
    "ax.add_patch(rect)\n",
    "plt.title(\"Distribution of segment differences of intensity value w.r.t cleanest segment\")\n",
    "plt.show()"
   ]
  },
  {
   "cell_type": "code",
   "execution_count": 30,
   "id": "15f09c40",
   "metadata": {},
   "outputs": [],
   "source": [
    "# Filter out segments that have an intensity which is significantly different from when the lake is the purest\n",
    "array_segmented_images = np.array([segment if (l_diff_mean_segments[index]< tresh and not np.isnan(l_diff_mean_segments[index])) else np.zeros_like(segment) for index, segment in enumerate(array_segmented_images)])"
   ]
  },
  {
   "cell_type": "code",
   "execution_count": 31,
   "id": "dcf5c682",
   "metadata": {},
   "outputs": [],
   "source": [
    "np.save('./temp/array_segmented_images.npy', array_segmented_images)"
   ]
  },
  {
   "cell_type": "code",
   "execution_count": 39,
   "id": "e00ae6a8",
   "metadata": {},
   "outputs": [
    {
     "data": {
      "application/vnd.jupyter.widget-view+json": {
       "model_id": "082d6441021743fcbf44633865e1237e",
       "version_major": 2,
       "version_minor": 0
      },
      "text/plain": [
       "HBox(children=(IntSlider(value=5, description='Index', max=255), IntSlider(value=5, description='Channel', max…"
      ]
     },
     "metadata": {},
     "output_type": "display_data"
    },
    {
     "data": {
      "application/vnd.jupyter.widget-view+json": {
       "model_id": "c3c3a5a700ed4ff0b6e8d78c78d9bfce",
       "version_major": 2,
       "version_minor": 0
      },
      "text/plain": [
       "Output()"
      ]
     },
     "metadata": {},
     "output_type": "display_data"
    }
   ],
   "source": [
    "# Visualization\n",
    "# ui, out = visualize_data(array_data_cropped,  array_segments = array_segmented_images, array_times = array_times)\n",
    "# display(ui, out)"
   ]
  }
 ],
 "metadata": {
  "kernelspec": {
   "display_name": "geospatial_3.8",
   "language": "python",
   "name": "geospatial_3.8"
  },
  "language_info": {
   "codemirror_mode": {
    "name": "ipython",
    "version": 3
   },
   "file_extension": ".py",
   "mimetype": "text/x-python",
   "name": "python",
   "nbconvert_exporter": "python",
   "pygments_lexer": "ipython3",
   "version": "3.8.0"
  }
 },
 "nbformat": 4,
 "nbformat_minor": 5
}
