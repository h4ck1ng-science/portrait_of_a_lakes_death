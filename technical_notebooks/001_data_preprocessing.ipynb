{
 "cells": [
  {
   "cell_type": "markdown",
   "id": "b96dd395",
   "metadata": {},
   "source": [
    "# Data preprocessing"
   ]
  },
  {
   "cell_type": "code",
   "execution_count": null,
   "id": "eca2b477",
   "metadata": {},
   "outputs": [],
   "source": [
    "#%cd .."
   ]
  },
  {
   "cell_type": "markdown",
   "id": "4d4c8024",
   "metadata": {},
   "source": [
    "## Dependencies and helper functions"
   ]
  },
  {
   "cell_type": "code",
   "execution_count": null,
   "id": "0c41b5a4",
   "metadata": {},
   "outputs": [],
   "source": [
    "# Standard imports\n",
    "import numpy as np\n",
    "import pandas as pd\n",
    "import os\n",
    "import zarr\n",
    "import ipywidgets as widgets\n",
    "import matplotlib.pyplot as plt\n",
    "from umap import UMAP\n",
    "from sklearn.cluster import KMeans\n",
    "from skimage import segmentation, feature, future\n",
    "from sklearn.ensemble import RandomForestClassifier\n",
    "from functools import partial\n",
    "import matplotlib.patches as patches\n",
    "from skimage.segmentation import morphological_chan_vese\n",
    "import cv2\n",
    "import imutils\n",
    "from scipy.signal import savgol_filter\n",
    "import datetime\n",
    "from scipy.interpolate import interp1d\n",
    "import matplotlib.dates as mdates\n",
    "from mpl_toolkits.axes_grid1.inset_locator import inset_axes\n",
    "import pickle\n",
    "import calmap\n",
    "\n",
    "# Prettier plots\n",
    "import seaborn as sns\n",
    "sns.set(font='Palatino',\n",
    "        rc={\n",
    " 'axes.axisbelow': False,\n",
    " 'axes.edgecolor': 'k',\n",
    " 'axes.facecolor': 'None',\n",
    " 'axes.grid' : False,\n",
    " 'axes.spines.right': False,\n",
    " 'axes.spines.top': False,\n",
    " 'figure.facecolor': 'white',\n",
    " 'lines.solid_capstyle': 'round',\n",
    " 'patch.edgecolor': 'w',\n",
    " 'patch.force_edgecolor': True,\n",
    " 'xtick.bottom': True,\n",
    " 'xtick.direction': 'out',\n",
    " 'xtick.top': False,\n",
    " 'ytick.direction': 'out',\n",
    " 'ytick.left': True,\n",
    " 'ytick.right': False})\n",
    "\n",
    "# Vectorial plot\n",
    "import matplotlib_inline.backend_inline as backend_inline \n",
    "backend_inline.set_matplotlib_formats('svg')\n",
    "\n",
    "## Testing parallel loading of ZARR\n",
    "from concurrent.futures import ThreadPoolExecutor, ProcessPoolExecutor\n",
    "\n",
    "def paral(func, lista, N, threads=True, processes=False):\n",
    "    if processes:\n",
    "        with ProcessPoolExecutor(max_workers=N) as executor:\n",
    "            results = executor.map(func, lista)\n",
    "        return list(results)\n",
    "    elif threads:\n",
    "        with ThreadPoolExecutor(max_workers=N) as executor:\n",
    "            results = executor.map(func, lista)\n",
    "        return list(results)\n",
    "\n",
    "def loadindex(index):\n",
    "    try:\n",
    "        return img[index][:]\n",
    "    except Exception as e:\n",
    "        print(e)\n",
    "        \n",
    "## Visualization method\n",
    "def visualize_data(array_data, array_segments = None, array_times = None, cmap='crest'):\n",
    "    # Widget slider to browse the data\n",
    "    index = widgets.IntSlider(\n",
    "        value=5, min=0, max=array_data.shape[0] - 1, step=1, description=\"Index\"\n",
    "    )\n",
    "\n",
    "    # Other widget slider to browse the channels\n",
    "    channel = widgets.IntSlider(\n",
    "        value=5, min=0, max=array_data.shape[3] - 1, step=1, description=\"Channel\"\n",
    "    )\n",
    "\n",
    "    # Checkbox to display RGB (override the channel)\n",
    "    display_RGB = widgets.Checkbox(description=\"Display RGB\", value=False)\n",
    "\n",
    "    ui = widgets.HBox([index, channel, display_RGB])\n",
    "\n",
    "    # Widget interaction function\n",
    "    def anim(index_value, channel_value, display_RGB_value):\n",
    "        fig = plt.figure(figsize=(10,8))\n",
    "        if display_RGB_value:\n",
    "            plt.imshow( array_data[index_value, :, :, (3,2,1)].swapaxes(0,1).swapaxes(1, 2))\n",
    "        else:\n",
    "            plt.imshow(array_data[index_value, :, :, channel_value], cmap = cmap)\n",
    "        if array_segments is not None:\n",
    "            if np.sum(array_segments[index_value])>0:\n",
    "                plt.contour(array_segments[index_value], [0.5], colors='r')\n",
    "        if array_times is not None:\n",
    "            plt.title('Acquisition time: ' + str(array_times[index_value]))\n",
    "        else:\n",
    "            plt.title('Acquisition time: ' + str(df['beginposition'][index_value]))\n",
    "        plt.axis('off')\n",
    "        return\n",
    "\n",
    "    # Link widget and function\n",
    "    out = widgets.interactive_output(anim, {\"index_value\": index, 'channel_value': channel, 'display_RGB_value': display_RGB})\n",
    "\n",
    "    # Display result\n",
    "    return ui, out"
   ]
  },
  {
   "cell_type": "markdown",
   "id": "934fa590",
   "metadata": {},
   "source": [
    "## Loading metadata dataframe"
   ]
  },
  {
   "cell_type": "code",
   "execution_count": null,
   "id": "7fcc4ca3",
   "metadata": {},
   "outputs": [],
   "source": [
    "# Load all dataframes in a list\n",
    "l_df = []\n",
    "for file in os.listdir(r\"./data\"):\n",
    "    if file.endswith(\".pickle\"):\n",
    "        #df_temp = pd.read_pickle(\"Data engineering/\" + file)\n",
    "        with open(r\"./data/\" + file, \"rb\") as fh:\n",
    "            df_temp = pickle.load(fh)\n",
    "        df_temp['year'] = int(file.split(\"_\")[0])\n",
    "        l_df.append(df_temp)\n",
    "\n",
    "# Merge all dataframes\n",
    "df = pd.concat(l_df, axis=0)\n",
    "\n",
    "# Remove useless columns\n",
    "df = df[['datatakesensingstart', 'beginposition', 'endposition', 'ingestiondate', 'processinglevel', 'platformname', 'size','year']]\n",
    "\n",
    "# Sort by date\n",
    "df = df.sort_values(by=\"beginposition\")\n",
    "\n",
    "# Delete initial list of dataframes\n",
    "del l_df"
   ]
  },
  {
   "cell_type": "code",
   "execution_count": null,
   "id": "2b679fc8",
   "metadata": {},
   "outputs": [],
   "source": [
    "def display_table_summary():\n",
    "    display(df)"
   ]
  },
  {
   "cell_type": "markdown",
   "id": "d36db2d9",
   "metadata": {},
   "source": [
    "## Loading arrays into memory"
   ]
  },
  {
   "cell_type": "code",
   "execution_count": null,
   "id": "befad51b",
   "metadata": {},
   "outputs": [],
   "source": [
    "# Load all arrays in memory\n",
    "l_arrays = []\n",
    "for index, year in zip(df.index, df.year):\n",
    "    with zarr.open(r\"./data/\" + str(year) + '.zarr', mode = 'r') as img:\n",
    "        try:\n",
    "            l_arrays.append(img[index][:])\n",
    "        except Exception as e:\n",
    "            print(year, e)\n",
    "\n",
    "# Convert to numpy array\n",
    "array_data = np.array(l_arrays)\n",
    "\n",
    "# Free memory\n",
    "del l_arrays\n",
    "\n",
    "#print(array_data.size/1024**2)\n",
    "#print(array_data.shape)\n",
    "\n",
    "# Remove 9th dimension as it's unusable\n",
    "array_data = np.delete(array_data, 9, axis = 1)\n",
    "\n",
    "# Rearange data\n",
    "array_data = np.swapaxes(array_data, 1, 2)\n",
    "array_data = np.swapaxes(array_data, 2, 3)\n",
    "#print(array_data.shape)\n",
    "\n",
    "# Crop images as they're too large for ML on a laptop\n",
    "array_data = array_data[:,150:551,150:751,:]\n",
    "\n",
    "# Normalize by the 90th percentile for RGB channels\n",
    "percentile = np.percentile(array_data[:,:,:,(1,2,3)], 90)\n",
    "for ax in [1,2,3]:\n",
    "    array_data[:,:,:,ax] = (array_data[:,:,:,ax].astype(np.float64) / percentile * 255).astype(np.int16)\n",
    "    # Cap values above 255 \n",
    "    array_data[:,:,:,ax] = np.clip(array_data[:,:,:,ax], 0, 255)"
   ]
  },
  {
   "cell_type": "code",
   "execution_count": null,
   "id": "6c5ada2c",
   "metadata": {},
   "outputs": [],
   "source": [
    "def visualize_all_products():\n",
    "    ui, out = visualize_data(array_data, array_times = df['beginposition'])\n",
    "    display(ui, out)"
   ]
  },
  {
   "cell_type": "code",
   "execution_count": null,
   "id": "537e0297",
   "metadata": {},
   "outputs": [],
   "source": [
    "def calendar_all_products():\n",
    "    dates = df['beginposition']\n",
    "    events = pd.Series(1, index=dates)\n",
    "\n",
    "    ca = calmap.calendarplot(events, monthticks=3, daylabels='MTWTFSS',\n",
    "                        dayticks=[0, 2, 4, 6], cmap='YlGn',\n",
    "                        fillcolor='grey', linewidth=0, \n",
    "                        yearlabel_kws={'fontsize': 20},\n",
    "                        fig_kws=dict(figsize=(28, 8)))\n",
    "    plt.show()"
   ]
  },
  {
   "cell_type": "markdown",
   "id": "6e5fe3cf",
   "metadata": {},
   "source": [
    "## Filtering out products with clouds and black images"
   ]
  },
  {
   "cell_type": "code",
   "execution_count": null,
   "id": "d7e12238",
   "metadata": {},
   "outputs": [],
   "source": [
    "l_mean = [np.mean(x.flatten()) for x in array_data[:, :, :, :]]\n",
    "# Compute mean value of the image and check outliers\n",
    "lb, hb = 500, 1750\n",
    "\n",
    "def plot_average_image_value():\n",
    "    # Create figure and axes\n",
    "    fig, ax = plt.subplots(1, figsize = (10,5))\n",
    "    fig.patch.set_facecolor('white')\n",
    "    plt.hist(l_mean, bins=100)\n",
    "    plt.ylim(0, 50)\n",
    "    plt.xlim(0, 6100)\n",
    "    plt.xlabel(\"Image mean value\")\n",
    "    plt.ylabel(\"Frequency\")\n",
    "\n",
    "    # Create two rectangle patches to show discarded data and add them to the plot\n",
    "    rect = patches.Rectangle((0, 0), lb, 50, alpha = 0.3, facecolor=\"red\")\n",
    "    rect2 = patches.Rectangle((hb, 0), 6100-hb, 50, alpha = 0.3, facecolor=\"red\")\n",
    "    ax.add_patch(rect)\n",
    "    ax.add_patch(rect2)\n",
    "    plt.title('Average image value (across all channels) distribution')\n",
    "    plt.show()"
   ]
  },
  {
   "cell_type": "code",
   "execution_count": null,
   "id": "64adcac7",
   "metadata": {},
   "outputs": [],
   "source": [
    "# Discard images out of selected threshold\n",
    "l_idx_to_keep = [idx for idx, m in enumerate(l_mean) if m > lb and m < hb]\n",
    "array_data_cropped = array_data[l_idx_to_keep, :, :, :]\n",
    "array_times = [df['beginposition'][index_value] for index_value in l_idx_to_keep]"
   ]
  },
  {
   "cell_type": "code",
   "execution_count": null,
   "id": "c15a6377",
   "metadata": {},
   "outputs": [],
   "source": [
    "def visualize_selected_products():\n",
    "    ui, out = visualize_data(array_data_cropped, array_times = array_times)\n",
    "    display(ui, out)"
   ]
  },
  {
   "cell_type": "code",
   "execution_count": null,
   "id": "988cf53a",
   "metadata": {},
   "outputs": [],
   "source": [
    "def calendar_selected_products():\n",
    "    dates = array_times\n",
    "    events = pd.Series(1, index=dates)\n",
    "\n",
    "    ca = calmap.calendarplot(events, monthticks=3, daylabels='MTWTFSS',\n",
    "                        dayticks=[0, 2, 4, 6], cmap='YlGn',\n",
    "                        fillcolor='grey', linewidth=0, \n",
    "                        yearlabel_kws={'fontsize': 20},\n",
    "                        fig_kws=dict(figsize=(28, 8)))\n",
    "    plt.show()"
   ]
  },
  {
   "cell_type": "code",
   "execution_count": null,
   "id": "684e9976",
   "metadata": {},
   "outputs": [],
   "source": [
    "np.save('./temp/array_data_cropped.npy', array_data_cropped)\n",
    "\n",
    "with open('./temp/array_times.pickle', 'wb') as handle:\n",
    "    pickle.dump(array_times, handle, protocol=pickle.HIGHEST_PROTOCOL)"
   ]
  }
 ],
 "metadata": {
  "kernelspec": {
   "display_name": "geospatial_3.8",
   "language": "python",
   "name": "geospatial_3.8"
  },
  "language_info": {
   "codemirror_mode": {
    "name": "ipython",
    "version": 3
   },
   "file_extension": ".py",
   "mimetype": "text/x-python",
   "name": "python",
   "nbconvert_exporter": "python",
   "pygments_lexer": "ipython3",
   "version": "3.8.0"
  }
 },
 "nbformat": 4,
 "nbformat_minor": 5
}
