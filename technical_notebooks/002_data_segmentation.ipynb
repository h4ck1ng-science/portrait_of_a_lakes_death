{
 "cells": [
  {
   "cell_type": "markdown",
   "id": "ce12a9a0-66a1-41a4-b3c1-4ad2bc7de73c",
   "metadata": {},
   "source": [
    "# Data segmentation"
   ]
  },
  {
   "cell_type": "markdown",
   "id": "85430b64-dcdb-4782-ad31-3af5d023cda1",
   "metadata": {},
   "source": [
    "## Dependencies and helper functions"
   ]
  },
  {
   "cell_type": "code",
   "execution_count": null,
   "id": "cae7fa63-ea5f-459f-a876-32280f6d1e6a",
   "metadata": {},
   "outputs": [],
   "source": [
    "def apply_segmentation(image):\n",
    "    image_normalized = image/np.max(image)\n",
    "    seg = morphological_chan_vese(image_normalized , num_iter= 200, init_level_set='disk', smoothing=2, lambda1 = 10., lambda2 = 1.)\n",
    "    return seg"
   ]
  },
  {
   "cell_type": "markdown",
   "id": "fce3111a-fe4f-4b41-96ad-a8960636bf5b",
   "metadata": {},
   "source": [
    "## Loading of the data"
   ]
  },
  {
   "cell_type": "code",
   "execution_count": null,
   "id": "6fdb3ba6-5895-4247-9bce-d10e8973e608",
   "metadata": {},
   "outputs": [],
   "source": [
    "# Segment all images in the dataset on channel 9 (# ! Takes ~1h to run) (B03 - B08) / (B03 + B08)\n",
    "l_segmented_images = paral(apply_segmentation, array_data_cropped[:,:,:,9], 10) #array_data_cropped[:,:,:,9] #np.squeeze(ndwi_array)+1\n",
    "array_segmented_images = np.array(l_segmented_images)\n",
    "del l_segmented_images\n",
    "\n",
    "# Store result as it's pretty heavy to compute\n",
    "with open(r\"C:\\Users\\Carlos\\pro\\wekeo\\Data engineering\\\\segmentation.npy\", 'wb') as f:\n",
    "    np.save(f, array_segmented_images)"
   ]
  },
  {
   "cell_type": "markdown",
   "id": "51b62701-b43f-414b-a18c-5d365e8b2432",
   "metadata": {},
   "source": [
    "## Filter out bad-segments based on size"
   ]
  },
  {
   "cell_type": "code",
   "execution_count": null,
   "id": "ec82ee12-efe4-42c2-9912-66e9e765d1a0",
   "metadata": {},
   "outputs": [],
   "source": [
    "# Filter out segments that are 80% smaller than the main segment\n",
    "for index, segment in enumerate(array_segmented_images):\n",
    "    try:\n",
    "        cnts = cv2.findContours(segment.astype('uint8'), cv2.RETR_EXTERNAL, cv2.CHAIN_APPROX_SIMPLE)\n",
    "        cnts = imutils.grab_contours(cnts)\n",
    "        cnts = sorted(cnts, key=cv2.contourArea, reverse=True)\n",
    "        rect_areas = []\n",
    "        for c in cnts:\n",
    "            (x, y, w, h) = cv2.boundingRect(c)\n",
    "            rect_areas.append(w * h)\n",
    "        max_area = np.max(rect_areas)\n",
    "        for c in cnts:\n",
    "            (x, y, w, h) = cv2.boundingRect(c)\n",
    "            cnt_area = w * h\n",
    "            if cnt_area < 0.2 * max_area:\n",
    "                segment[y:y + h, x:x + w] = 0\n",
    "        array_segmented_images[index] = segment\n",
    "    except Exception as e:\n",
    "        print(e)"
   ]
  },
  {
   "cell_type": "code",
   "execution_count": null,
   "id": "bd14a166-3de7-4d51-b771-ed570e599771",
   "metadata": {},
   "outputs": [],
   "source": [
    "# Filter out segments out segments that are outside of the largest segment when the lake is the \n",
    "# fullest (among the first images, as it becomes empty afterwards)\n",
    "biggest_segment_index = np.argmax([np.sum(x) for x in array_segmented_images[:20]])\n",
    "biggest_segment = array_segmented_images[biggest_segment_index]\n",
    "for index, segment in enumerate(array_segmented_images):\n",
    "    segment_diff = biggest_segment - segment\n",
    "    segment[segment_diff < 0] = 0\n",
    "    array_segmented_images[index] = segment"
   ]
  },
  {
   "cell_type": "markdown",
   "id": "edbf227c-26a0-4f2a-8442-3683d60090f4",
   "metadata": {},
   "source": [
    "## Filtering out based on water content"
   ]
  },
  {
   "cell_type": "code",
   "execution_count": null,
   "id": "5e6afabe-501a-4a06-9b68-b5430488322e",
   "metadata": {},
   "outputs": [],
   "source": [
    "# Display distribution of intensity difference with 'pure' lake\n",
    "fig, ax = plt.subplots(1, figsize = (10,5))\n",
    "l_diff_mean_segments = [np.mean(array_data_cropped[index,:,:,9][segment==1])-np.mean(array_data_cropped[biggest_segment_index,:,:,9][biggest_segment==1]) if np.sum(segment)>0 else np.nan for index, segment in enumerate(array_segmented_images)]\n",
    "fig.patch.set_facecolor('white')\n",
    "plt.hist(l_diff_mean_segments, bins=100)\n",
    "plt.ylim(0, 8)\n",
    "plt.xlim(-100, 1600)\n",
    "plt.xlabel(\"Segment mean intensity value difference w.r.t clean segment\")\n",
    "plt.ylabel(\"Frequency\")\n",
    "tresh = 1450\n",
    "\n",
    "# Create one rectangle patch and add it to the plot\n",
    "rect = patches.Rectangle((tresh, 0), 1600-tresh, 8, alpha = 0.3, facecolor=\"red\")\n",
    "ax.add_patch(rect)\n",
    "plt.title(\"Distribution of segment differences of intensity value w.r.t cleanest segment\")\n",
    "plt.show()"
   ]
  },
  {
   "cell_type": "code",
   "execution_count": null,
   "id": "ab4d03e9-bb74-411c-a077-c03cf38aa8de",
   "metadata": {},
   "outputs": [],
   "source": [
    "# Filter out segments that have an intensity which is significantly different from when the lake is the purest\n",
    "array_segmented_images = np.array([segment if (l_diff_mean_segments[index]< tresh and not np.isnan(l_diff_mean_segments[index])) else np.zeros_like(segment) for index, segment in enumerate(array_segmented_images)])\n"
   ]
  },
  {
   "cell_type": "code",
   "execution_count": null,
   "id": "2538e1ab-0810-4e13-a32b-2d5553fe48f6",
   "metadata": {},
   "outputs": [],
   "source": []
  }
 ],
 "metadata": {
  "kernelspec": {
   "display_name": "kidodynamics",
   "language": "python",
   "name": "kidodynamics"
  },
  "language_info": {
   "codemirror_mode": {
    "name": "ipython",
    "version": 3
   },
   "file_extension": ".py",
   "mimetype": "text/x-python",
   "name": "python",
   "nbconvert_exporter": "python",
   "pygments_lexer": "ipython3",
   "version": "3.9.12"
  }
 },
 "nbformat": 4,
 "nbformat_minor": 5
}
