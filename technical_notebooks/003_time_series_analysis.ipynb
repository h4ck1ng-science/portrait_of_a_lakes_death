{
 "cells": [
  {
   "cell_type": "markdown",
   "id": "fada508c-05b4-4651-90e6-0a4c86d253c4",
   "metadata": {},
   "source": [
    "# Time Series Analysis"
   ]
  },
  {
   "cell_type": "markdown",
   "id": "5414ab9e-b8b9-436c-a28b-44c8cd1524e3",
   "metadata": {},
   "source": [
    "## Dependencies and helper methods"
   ]
  },
  {
   "cell_type": "code",
   "execution_count": null,
   "id": "bea7150d-d768-4e44-b7f1-3c9a9dcf003f",
   "metadata": {},
   "outputs": [],
   "source": []
  },
  {
   "cell_type": "markdown",
   "id": "bce382ed-42f8-4a16-a19f-a853ada17fb9",
   "metadata": {},
   "source": [
    "## First evolution of the lake"
   ]
  },
  {
   "cell_type": "code",
   "execution_count": null,
   "id": "cdda58bd-0e97-4116-ac7d-35930e7c02ca",
   "metadata": {},
   "outputs": [],
   "source": [
    "# Display area and detect images with abrupt change in segment with respect to the the previous and the next one \n",
    "array_area = np.array([np.sum(segment) for index, segment in enumerate(array_segmented_images)])\n",
    "\n",
    "# Get time in proper units\n",
    "array_times_int = np.array( [(x - datetime.datetime(1970, 1, 1)).total_seconds() for x in array_times])\n",
    "array_times_int = (array_times_int - array_times_int[0]) / 10**6\n",
    "\n",
    "# Interpolate the signal with a regular sampling for smoothing afterwards\n",
    "f = interp1d(array_times_int, array_area, kind='linear')\n",
    "xnew = np.linspace(0, array_times_int[-1], num=500, endpoint=True)\n",
    "y_new = f(xnew)\n",
    "\n",
    "# Smooth the signal with a Savgol filter\n",
    "yhat = savgol_filter(y_new, 7, 3) # window size 7, polynomial order 3\n",
    "\n",
    "# Reinterpolate \n",
    "f = interp1d(xnew, yhat, kind='linear')\n",
    "y_hat_proper_sampling = f(array_times_int)\n",
    "\n",
    "\n",
    "# Plot the smoothed signal\n",
    "plt.figure(figsize=(10,5),facecolor=\"white\")\n",
    "plt.plot(array_times, array_area * 100/1000000, 'o', array_times, y_hat_proper_sampling* 100/1000000, '-')\n",
    "plt.xlabel('Time')\n",
    "plt.ylabel('Area (km^2)')\n",
    "plt.title('Evolution of lake average area with time')\n",
    "plt.show()"
   ]
  },
  {
   "cell_type": "code",
   "execution_count": null,
   "id": "59d0c3be-9353-4c4c-a0c6-52f62d49dafd",
   "metadata": {},
   "outputs": [],
   "source": [
    "# Plot histogram of relative error compared to smoothed signal \n",
    "fig, ax = plt.subplots(1, figsize = (10,5))\n",
    "l_relative_error = (array_area-y_hat_proper_sampling)**2/np.array(y_hat_proper_sampling+1)\n",
    "fig.patch.set_facecolor('white')\n",
    "plt.hist(l_relative_error , bins=50)\n",
    "plt.xlim(0, 15000)\n",
    "plt.xlabel(\"Error\")\n",
    "plt.ylabel(\"Frequency\")\n",
    "tresh = 1700\n",
    "# Create one rectangle patch and add it to the plot\n",
    "rect = patches.Rectangle((tresh, 0), 15000-tresh, 150, alpha = 0.3, facecolor=\"red\")\n",
    "ax.add_patch(rect)\n",
    "\n",
    "ax.set_yscale('log')\n",
    "#plt.ylim(0,150)\n",
    "plt.title('Relative error of area compared to smoothed signal')\n",
    "plt.show()"
   ]
  },
  {
   "cell_type": "markdown",
   "id": "4ffb4c28-8c41-4d7d-b541-812d56cf39ab",
   "metadata": {},
   "source": [
    "## Study of the algae content within segmented regions"
   ]
  },
  {
   "cell_type": "code",
   "execution_count": null,
   "id": "bbef9b91-35cf-4426-b620-605a5cbd4686",
   "metadata": {},
   "outputs": [],
   "source": [
    "# Compute algae content for each acquisition\n",
    "l_mean_algae = [np.mean(array_data_filtered[index,:,:,6][segment==1]) if np.sum(segment)>0 else 0 for index, segment in enumerate(array_segmented_images_filtered)]\n",
    "\n",
    "# Smooth the signal with a Savgol filter\n",
    "f = interp1d(array_times_int_filtered, l_mean_algae, kind='slinear')\n",
    "xnew = np.linspace(0, array_times_int_filtered[-1], num=500, endpoint=True)\n",
    "yhat_algae = [x if x>=0 else 0 for x  in savgol_filter(f(xnew), 21, 3)]\n",
    "x_times = [datetime.datetime.fromtimestamp(x) for x in xnew * 10**6 + array_times_filtered[0].timestamp() ]\n",
    "\n",
    "# Plot the final curve\n",
    "fig, ax = plt.subplots(figsize=(10,5))\n",
    "fig.patch.set_facecolor('white')\n",
    "plt.plot(array_times_filtered , l_mean_algae, '.', c = 'C2')\n",
    "plt.plot( x_times, yhat_algae, '-', c = 'C0')\n",
    "\n",
    "plt.xlabel('Time')\n",
    "plt.ylabel('Algae content')\n",
    "plt.xlim(array_times_filtered[0], array_times_filtered[-1])\n",
    "#plt.ylim([0, np.max(array_area_filtered+2000)])\n",
    "ax.xaxis.set_major_locator(mdates.MonthLocator(interval=6))\n",
    "plt.title('Evolution of lake algae content with time')\n",
    "plt.show()"
   ]
  },
  {
   "cell_type": "code",
   "execution_count": null,
   "id": "39bcbc87-7879-4b81-a489-625760a42e30",
   "metadata": {},
   "outputs": [],
   "source": [
    "# Scale for main axes\n",
    "ylims = [0, np.max(array_area_filtered+2)]\n",
    "xlims = mdates.date2num([array_times_filtered[0], array_times_filtered[-1]])\n",
    "\n",
    "# Scale for the colorbar\n",
    "min_algae = np.min(yhat_algae)\n",
    "max_algae = np.max(yhat_algae)\n",
    "scale_algae = max_algae - min_algae\n",
    "\n",
    "# Draw the image over the whole plot area\n",
    "fig, ax = plt.subplots(figsize=(10,5))\n",
    "fig.patch.set_facecolor('white')\n",
    "im = plt.imshow(np.array([yhat_algae]), cmap='crest_r', origin='lower', extent=[xlims[0], xlims[1], ylims[0],  ylims[1]],aspect='auto')\n",
    "\n",
    "# Erase above the data by filling with white\n",
    "plt.fill_between(x_times, yhat, ylims[1], color='w')\n",
    "\n",
    "# Make the line plot over the top\n",
    "plt.plot(x_times, yhat, 'C0', linewidth=0.5)\n",
    "\n",
    "\n",
    "# Set limits\n",
    "ax.set_xlim(xlims)\n",
    "ax.set_ylim(ylims)\n",
    "\n",
    "# Labels\n",
    "plt.xlabel('Time')\n",
    "plt.ylabel('Lake area ' + r'($km^2$)')\n",
    "ax.set_title('Evolution of lake area and algae composition over time', y=1.0, pad=-18)\n",
    "\n",
    "# More customization\n",
    "ax.spines['top'].set_visible(False)\n",
    "ax.spines['right'].set_visible(False)\n",
    "\n",
    "\n",
    "# Define the date format\n",
    "ax.xaxis.set_major_locator(mdates.MonthLocator(interval=6))\n",
    "\n",
    "#add color bar\n",
    "cbaxes = inset_axes(ax, width=\"2%\", height=\"50%\", bbox_to_anchor = [0,0,0.85,0.8], bbox_transform=ax.transAxes, loc=1) \n",
    "t = fig.colorbar(im, cax=cbaxes, orientation='vertical', ticks=[min_algae + scale_algae * 0.05, max_algae - scale_algae * 0.05])\n",
    "cbaxes.set_title('Algae content', size=10)\n",
    "cbaxes.set_yticklabels(['Low algae', 'High algae'], size = 10) \n",
    "t.outline.set_visible(False)\n",
    "\n",
    "plt.show()"
   ]
  }
 ],
 "metadata": {
  "kernelspec": {
   "display_name": "kidodynamics",
   "language": "python",
   "name": "kidodynamics"
  },
  "language_info": {
   "codemirror_mode": {
    "name": "ipython",
    "version": 3
   },
   "file_extension": ".py",
   "mimetype": "text/x-python",
   "name": "python",
   "nbconvert_exporter": "python",
   "pygments_lexer": "ipython3",
   "version": "3.9.12"
  }
 },
 "nbformat": 4,
 "nbformat_minor": 5
}
